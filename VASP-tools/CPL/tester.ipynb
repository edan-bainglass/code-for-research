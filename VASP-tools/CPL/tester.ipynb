{
 "metadata": {
  "language_info": {
   "codemirror_mode": {
    "name": "ipython",
    "version": 3
   },
   "file_extension": ".py",
   "mimetype": "text/x-python",
   "name": "python",
   "nbconvert_exporter": "python",
   "pygments_lexer": "ipython3",
   "version": "3.9.2-final"
  },
  "orig_nbformat": 2,
  "kernelspec": {
   "name": "python3",
   "display_name": "Python 3.9.2 64-bit",
   "metadata": {
    "interpreter": {
     "hash": "bd4c67ef142469da7dc4d338a32ac40116904d26076b8e6aa587d80720bc6a2b"
    }
   }
  }
 },
 "nbformat": 4,
 "nbformat_minor": 2,
 "cells": [
  {
   "cell_type": "code",
   "execution_count": 1,
   "metadata": {},
   "outputs": [],
   "source": [
    "# either pip install PyQt5 in your environment, or choose another GUI (see matplotlib documentation for details)\n",
    "%matplotlib qt5"
   ]
  },
  {
   "cell_type": "code",
   "execution_count": 2,
   "metadata": {},
   "outputs": [],
   "source": [
    "from CPL_OOP import *"
   ]
  },
  {
   "cell_type": "code",
   "execution_count": 3,
   "metadata": {},
   "outputs": [],
   "source": [
    "# Plot setup\n",
    "font = {'family': 'times new roman', 'size': 16}\n",
    "axes = {'fontsize': 20, 'labelpad': 20}\n",
    "ticks = {'labelsize': 16}\n",
    "math = {'rm': 'Roman'}\n",
    "params = {'font': font, 'xtick': ticks, 'ytick': ticks, 'mathtext': math}\n",
    "for p in params:\n",
    "    plt.rc(p, **params[p])"
   ]
  },
  {
   "cell_type": "code",
   "execution_count": 4,
   "metadata": {},
   "outputs": [],
   "source": [
    "# define CPL axes\n",
    "free, x, y, z = symbols(['Cu', 'Bi', 'W', 'O'])\n",
    "\n",
    "loc = 'tests/CBTO/'  # location of energies\n",
    "\n",
    "cpl_setup = {\n",
    "    'data_location': loc,\n",
    "    'cpl_axes': (x, y, z),\n",
    "    'free': free,\n",
    "    'line_opacity': 0.75,\n",
    "    'shade_opacity': 0.2,\n",
    "    'SP': None\n",
    "}\n",
    "\n",
    "cpl = CPL(**cpl_setup)\n",
    "cpl.shades = cpl.draw(0.0)\n",
    "cpl.load_widgets()"
   ]
  }
 ]
}