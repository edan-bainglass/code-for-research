{
 "metadata": {
  "language_info": {
   "codemirror_mode": {
    "name": "ipython",
    "version": 3
   },
   "file_extension": ".py",
   "mimetype": "text/x-python",
   "name": "python",
   "nbconvert_exporter": "python",
   "pygments_lexer": "ipython3",
   "version": "3.9.2-final"
  },
  "orig_nbformat": 2,
  "kernelspec": {
   "name": "python3",
   "display_name": "Python 3.9.2 64-bit",
   "metadata": {
    "interpreter": {
     "hash": "bd4c67ef142469da7dc4d338a32ac40116904d26076b8e6aa587d80720bc6a2b"
    }
   }
  }
 },
 "nbformat": 4,
 "nbformat_minor": 2,
 "cells": [
  {
   "cell_type": "code",
   "execution_count": 2,
   "metadata": {},
   "outputs": [],
   "source": [
    "# either pip install PyQt5 in your environment, or choose another GUI (see matplotlib documentation for details)\n",
    "%matplotlib qt5"
   ]
  },
  {
   "cell_type": "code",
   "execution_count": 1,
   "metadata": {},
   "outputs": [],
   "source": [
    "from Electric_Ising import *"
   ]
  },
  {
   "cell_type": "code",
   "execution_count": 3,
   "metadata": {},
   "outputs": [],
   "source": [
    "loc = \"tests/SbTaO4\"\n",
    "\n",
    "system = System(loc, supercell_dim=[2, 2, 1])\n",
    "plotter = Plotter(system)"
   ]
  },
  {
   "cell_type": "code",
   "execution_count": 4,
   "metadata": {},
   "outputs": [],
   "source": [
    "plotter.draw_lattice(title='Initial Lattice')"
   ]
  },
  {
   "cell_type": "code",
   "execution_count": 5,
   "metadata": {},
   "outputs": [],
   "source": [
    "# define an Ising Simulator\n",
    "ising = ElectricIsing(system)\n",
    "\n",
    "# define temperature (broken into several ranges for resolution)\n",
    "TR1 = np.linspace(100, 1000, 10)\n",
    "TR2 = np.linspace(1025, 2000, 40)\n",
    "TR3 = np.linspace(2200, 4000, 10)\n",
    "temperatures = np.concatenate((TR1, TR2, TR3))\n",
    "\n",
    "# run simulation\n",
    "delta_angle = np.radians(0.5)  # perturbation cutoff angle\n",
    "ising.run_simulation(temperatures, 1, 1, delta_angle)"
   ]
  },
  {
   "cell_type": "code",
   "execution_count": 6,
   "metadata": {},
   "outputs": [],
   "source": [
    "plotter.draw_lattice(title='Final Lattice')"
   ]
  },
  {
   "cell_type": "code",
   "execution_count": 7,
   "metadata": {},
   "outputs": [],
   "source": [
    "# plot statistical results\n",
    "plotter.plot_stats(temperatures)"
   ]
  }
 ]
}